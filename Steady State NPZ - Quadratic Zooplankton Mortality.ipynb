{
 "cells": [
  {
   "cell_type": "code",
   "execution_count": 1,
   "id": "6d6f5a35",
   "metadata": {},
   "outputs": [],
   "source": [
    "import numpy as np; import matplotlib.pyplot as plt\n",
    "from matplotlib import colors\n",
    "import random\n",
    "import scipy\n",
    "from scipy.integrate import solve_ivp\n",
    "\n",
    "import sympy as sym\n",
    "sym.init_printing()"
   ]
  },
  {
   "cell_type": "code",
   "execution_count": 2,
   "id": "5ae3e855",
   "metadata": {},
   "outputs": [],
   "source": [
    "# Recreation N-P-Z Model - Top Down Limitation\n",
    "N_T = sym.symbols('N_T') #Total nutrients N + P + Z\n",
    "\n",
    "N = sym.symbols('N')  # Nutrient supply\n",
    "K_N = sym.symbols('K_N')  # K_N: is the Monod constant equivalent to the concentration of\n",
    "# N at which the growth rate is half of its maximum value\n",
    "\n",
    "P = sym.symbols('P')  # Phytoplankton population density\n",
    "V_max = sym.symbols('V_max')  # Maximum phytoplankton growth rate\n",
    "λ_P = sym.symbols('λ_P')  # Mortality & Respiration rate\n",
    "μ_P = sym.symbols('μ_P')  # Remineralization fraction\n",
    "\n",
    "Z = sym.symbols('Z')  # Zooplankton population density\n",
    "g = sym.symbols('g')  # Maximum specific grazing rate\n",
    "K_P = sym.symbols('K_P')  # Half-Saturation constant for grazing of P\n",
    "γ_Z = sym.symbols('γ_Z')  # Growth rate / assimilation frequency\n",
    "λ_Z = sym.symbols('λ_Z')  # Mortality & Respiration & Egestion\n",
    "μ_Z = sym.symbols('μ_Z')  # Remineralization fraction"
   ]
  },
  {
   "cell_type": "code",
   "execution_count": 3,
   "id": "83b20108",
   "metadata": {
    "code_folding": [
     0
    ]
   },
   "outputs": [],
   "source": [
    "# Defining equations\n",
    "def gamma_P(N, K_N):\n",
    "    '''Monod growth function for specified nutrient.\n",
    "       return: Monod (flt)\n",
    "    '''\n",
    "    return N / (K_N + N)\n",
    "\n",
    "def grazing_func(p_pop_den, z_pop_den, grazing_rate, half_sat):\n",
    "    ''' Grazing function, assuming we are in the linear portion of \n",
    "        the monod feeding curve.\n",
    "        \n",
    "        return: portion of the phytoplankton population lost to grazing (flt)\n",
    "    '''\n",
    "    return grazing_rate * (p_pop_den / half_sat) * z_pop_den\n",
    "\n",
    "\n",
    "def Gamma_P(pop_den, max_growth_rate, nutr_monod_func, mortality, grazing_func):\n",
    "    ''' Population density of Phytoplankton over time (steady state)'''\n",
    "    paren = max_growth_rate * nutr_monod_func - mortality - (grazing_func / pop_den)\n",
    "    return pop_den * paren\n",
    "\n",
    "def Gamma_Z(pop_den, growth_rate, grazing_func, mortality):\n",
    "    ''' Population density of Zooplankton over time (steady state)'''\n",
    "    paren = growth_rate * (grazing_func / pop_den) - (mortality * pop_den) #quad mort\n",
    "    return pop_den * paren\n",
    "\n",
    "def Gamma_N(p_pop_den, max_growth, nutr_monod_func, p_remin, p_mort,\n",
    "           z_pop_den, z_remin, z_assimilation, grazing_func, z_mort):\n",
    "    \n",
    "    '''Nutrient Supply Function'''\n",
    "    \n",
    "    from_phyto = p_pop_den * (-max_growth * nutr_monod_func + p_remin * p_mort)\n",
    "    \n",
    "    from_zoo_paren = (1 - z_assimilation) * (grazing_func / z_pop_den) + (z_mort * z_pop_den) #quad mort\n",
    "    from_zoo = z_pop_den * z_remin * from_zoo_paren\n",
    "    \n",
    "    return from_phyto + from_zoo\n"
   ]
  },
  {
   "cell_type": "code",
   "execution_count": 4,
   "id": "c5e11017",
   "metadata": {
    "code_folding": [
     0
    ]
   },
   "outputs": [],
   "source": [
    "#Defining equations symbolically with relavent variables\n",
    "Γ_N = Gamma_N(P, V_max, gamma_P(N, K_N), μ_P, λ_P, Z, μ_Z, γ_Z, grazing_func(P, Z, g, K_P), λ_Z)\n",
    "\n",
    "Γ_P = Gamma_P(P, V_max, gamma_P(N, K_N), λ_P, grazing_func(P, Z, g, K_P))\n",
    "\n",
    "Γ_Z = Gamma_Z(Z, γ_Z, grazing_func(P, Z, g, K_P), λ_Z)"
   ]
  },
  {
   "cell_type": "markdown",
   "id": "05db54c5",
   "metadata": {},
   "source": [
    "# Finding Steady-state solutions"
   ]
  },
  {
   "cell_type": "markdown",
   "id": "0bfb965e",
   "metadata": {},
   "source": [
    "# Method 1: Find Z from Γ_P, Find N in terms of total nutrients."
   ]
  },
  {
   "cell_type": "code",
   "execution_count": 5,
   "id": "664cef94",
   "metadata": {},
   "outputs": [
    {
     "data": {
      "image/png": "[encoded data removed]",
      "text/latex": [
       "$\\displaystyle \\frac{K_{P} \\left(\\frac{N V_{max}}{K_{N} + N} - λ_{P}\\right)}{g}$"
      ],
      "text/plain": [
       "    ⎛ N⋅Vₘₐₓ      ⎞\n",
       "K_P⋅⎜─────── - λ_P⎟\n",
       "    ⎝K_N + N      ⎠\n",
       "───────────────────\n",
       "         g         "
      ]
     },
     "execution_count": 5,
     "metadata": {},
     "output_type": "execute_result"
    }
   ],
   "source": [
    "#Symbolically solving for Z from Gamma_P\n",
    "Z_sym = sym.solveset(Γ_P, Z)\n",
    "\n",
    "#Turning into usable function\n",
    "Z_sol = sym.lambdify((N, K_N, V_max, λ_P, μ_P, g, K_P), Z_sym.args[0])\n",
    "Z_sym = Z_sym.args[0]\n",
    "Z_sym "
   ]
  },
  {
   "cell_type": "code",
   "execution_count": 6,
   "id": "e136d6da",
   "metadata": {},
   "outputs": [
    {
     "data": {
      "image/png": "[encoded data removed]",
      "text/latex": [
       "$\\displaystyle \\frac{K_{P}^{2} λ_{Z} \\left(\\frac{N V_{max}}{K_{N} + N} - λ_{P}\\right)}{g^{2} γ_{Z}}$"
      ],
      "text/plain": [
       "   2     ⎛ N⋅Vₘₐₓ      ⎞\n",
       "K_P ⋅λ_Z⋅⎜─────── - λ_P⎟\n",
       "         ⎝K_N + N      ⎠\n",
       "────────────────────────\n",
       "          2             \n",
       "         g ⋅γ_Z         "
      ]
     },
     "execution_count": 6,
     "metadata": {},
     "output_type": "execute_result"
    }
   ],
   "source": [
    "#Threshold for when P population is large enough to sustain Z population\n",
    "P_sym = sym.solveset(Γ_Z, P)\n",
    "P_sym = P_sym.args[0]\n",
    "P_sym = P_sym.subs(Z, Z_sym)\n",
    "P_sol = sym.lambdify((N, K_N, V_max, λ_P, g, K_P, γ_Z, λ_Z), P_sym)\n",
    "P_sym"
   ]
  },
  {
   "cell_type": "markdown",
   "id": "c1f8b495",
   "metadata": {},
   "source": [
    "We know from $N_T = N + P(N) + Z(N) \\quad \\Rightarrow \\quad N + Z(N) + P(N) - N_T = 0$\n"
   ]
  },
  {
   "cell_type": "code",
   "execution_count": 17,
   "id": "337eb988",
   "metadata": {
    "collapsed": true,
    "tags": []
   },
   "outputs": [
    {
     "data": {
      "image/png": "[encoded data removed]",
      "text/latex": [
       "$\\displaystyle - \\frac{K_{N} g^{2} γ_{Z} + K_{P}^{2} V_{max} λ_{Z} - K_{P}^{2} λ_{P} λ_{Z} + K_{P} V_{max} g γ_{Z} - K_{P} g γ_{Z} λ_{P} - N_{T} g^{2} γ_{Z}}{2 g^{2} γ_{Z}} + \\frac{\\sqrt{K_{N}^{2} g^{4} γ_{Z}^{2} + 2 K_{N} K_{P}^{2} V_{max} g^{2} γ_{Z} λ_{Z} + 2 K_{N} K_{P}^{2} g^{2} γ_{Z} λ_{P} λ_{Z} + 2 K_{N} K_{P} V_{max} g^{3} γ_{Z}^{2} + 2 K_{N} K_{P} g^{3} γ_{Z}^{2} λ_{P} + 2 K_{N} N_{T} g^{4} γ_{Z}^{2} + K_{P}^{4} V_{max}^{2} λ_{Z}^{2} - 2 K_{P}^{4} V_{max} λ_{P} λ_{Z}^{2} + K_{P}^{4} λ_{P}^{2} λ_{Z}^{2} + 2 K_{P}^{3} V_{max}^{2} g γ_{Z} λ_{Z} - 4 K_{P}^{3} V_{max} g γ_{Z} λ_{P} λ_{Z} + 2 K_{P}^{3} g γ_{Z} λ_{P}^{2} λ_{Z} - 2 K_{P}^{2} N_{T} V_{max} g^{2} γ_{Z} λ_{Z} + 2 K_{P}^{2} N_{T} g^{2} γ_{Z} λ_{P} λ_{Z} + K_{P}^{2} V_{max}^{2} g^{2} γ_{Z}^{2} - 2 K_{P}^{2} V_{max} g^{2} γ_{Z}^{2} λ_{P} + K_{P}^{2} g^{2} γ_{Z}^{2} λ_{P}^{2} - 2 K_{P} N_{T} V_{max} g^{3} γ_{Z}^{2} + 2 K_{P} N_{T} g^{3} γ_{Z}^{2} λ_{P} + N_{T}^{2} g^{4} γ_{Z}^{2}}}{2 g^{2} γ_{Z}}$"
      ],
      "text/plain": [
       "                                                                              \n",
       "       2          2               2                                           \n",
       "  K_N⋅g ⋅γ_Z + K_P ⋅Vₘₐₓ⋅λ_Z - K_P ⋅λ_P⋅λ_Z + K_P⋅Vₘₐₓ⋅g⋅γ_Z - K_P⋅g⋅γ_Z⋅λ_P -\n",
       "- ────────────────────────────────────────────────────────────────────────────\n",
       "                                             2                                \n",
       "                                          2⋅g ⋅γ_Z                            \n",
       "\n",
       "                 _____________________________________________________________\n",
       "      2         ╱    2  4    2            2       2                    2  2   \n",
       " N_T⋅g ⋅γ_Z   ╲╱  K_N ⋅g ⋅γ_Z  + 2⋅K_N⋅K_P ⋅Vₘₐₓ⋅g ⋅γ_Z⋅λ_Z + 2⋅K_N⋅K_P ⋅g ⋅γ_\n",
       "─────────── + ────────────────────────────────────────────────────────────────\n",
       "                                                                              \n",
       "                                                                              \n",
       "\n",
       "______________________________________________________________________________\n",
       "                            3    2              3    2                  4    2\n",
       "Z⋅λ_P⋅λ_Z + 2⋅K_N⋅K_P⋅Vₘₐₓ⋅g ⋅γ_Z  + 2⋅K_N⋅K_P⋅g ⋅γ_Z ⋅λ_P + 2⋅K_N⋅N_T⋅g ⋅γ_Z \n",
       "──────────────────────────────────────────────────────────────────────────────\n",
       "                                                                              \n",
       "                                                                              \n",
       "\n",
       "______________________________________________________________________________\n",
       "      4     2    2        4             2      4    2    2        3     2     \n",
       " + K_P ⋅Vₘₐₓ ⋅λ_Z  - 2⋅K_P ⋅Vₘₐₓ⋅λ_P⋅λ_Z  + K_P ⋅λ_P ⋅λ_Z  + 2⋅K_P ⋅Vₘₐₓ ⋅g⋅γ_\n",
       "──────────────────────────────────────────────────────────────────────────────\n",
       "                                                                              \n",
       "                                                                              \n",
       "\n",
       "______________________________________________________________________________\n",
       "             3                           3          2            2           2\n",
       "Z⋅λ_Z - 4⋅K_P ⋅Vₘₐₓ⋅g⋅γ_Z⋅λ_P⋅λ_Z + 2⋅K_P ⋅g⋅γ_Z⋅λ_P ⋅λ_Z - 2⋅K_P ⋅N_T⋅Vₘₐₓ⋅g \n",
       "──────────────────────────────────────────────────────────────────────────────\n",
       "            2                                                                 \n",
       "         2⋅g ⋅γ_Z                                                             \n",
       "\n",
       "______________________________________________________________________________\n",
       "                2      2                  2     2  2    2        2       2    \n",
       "⋅γ_Z⋅λ_Z + 2⋅K_P ⋅N_T⋅g ⋅γ_Z⋅λ_P⋅λ_Z + K_P ⋅Vₘₐₓ ⋅g ⋅γ_Z  - 2⋅K_P ⋅Vₘₐₓ⋅g ⋅γ_Z\n",
       "──────────────────────────────────────────────────────────────────────────────\n",
       "                                                                              \n",
       "                                                                              \n",
       "\n",
       "______________________________________________________________________________\n",
       "2          2  2    2    2                   3    2              3    2        \n",
       " ⋅λ_P + K_P ⋅g ⋅γ_Z ⋅λ_P  - 2⋅K_P⋅N_T⋅Vₘₐₓ⋅g ⋅γ_Z  + 2⋅K_P⋅N_T⋅g ⋅γ_Z ⋅λ_P + N\n",
       "──────────────────────────────────────────────────────────────────────────────\n",
       "                                                                              \n",
       "                                                                              \n",
       "\n",
       "____________\n",
       "  2  4    2 \n",
       "_T ⋅g ⋅γ_Z  \n",
       "────────────\n",
       "            \n",
       "            "
      ]
     },
     "execution_count": 17,
     "metadata": {},
     "output_type": "execute_result"
    }
   ],
   "source": [
    "#Solving for N in terms of N_T \n",
    "N_sym = sym.solveset(N + Z_sym + P_sym - N_T, N)\n",
    "\n",
    "#Turning into usable function, using positive branch of sol\n",
    "N_sol = sym.lambdify((N_T, K_N, V_max, λ_P, g, K_P, γ_Z, λ_Z), N_sym.args[0].args[1])\n",
    "N_sym.args[0].args[1]"
   ]
  },
  {
   "cell_type": "markdown",
   "id": "7ef35f28",
   "metadata": {},
   "source": [
    "# Plotting "
   ]
  },
  {
   "cell_type": "code",
   "execution_count": 7,
   "id": "71b74749",
   "metadata": {},
   "outputs": [],
   "source": [
    "#Plotting Regimes\n",
    "def regime(N, K_N, V_max, λ_P, μ_P, g, K_P, γ_Z, λ_Z, μ_Z):\n",
    "\n",
    "    #N-Regime\n",
    "    N_threshold = λ_P * K_N / (V_max - λ_P)\n",
    "    \n",
    "    if N < N_threshold: \n",
    "        N_n = N\n",
    "        P, Z = 0, 0\n",
    "        \n",
    "    #No N-P regime in this case\n",
    "    else:\n",
    "        N_n = N_sol(N, K_N, V_max, λ_P, g, K_P, γ_Z, λ_Z)\n",
    "        \n",
    "        Z = Z_sol(N_n, K_N, V_max, λ_P, μ_P, g, K_P)\n",
    "        \n",
    "        P = (λ_Z * K_P * Z) / (γ_Z * g)\n",
    "\n",
    "        \n",
    "    return N_n, P, Z\n",
    "    \n",
    "\n",
    "#Args\n",
    "K_N = .1    #mmol m^-3, the concentration of nutrients that supports a phytoplankton growthrate of V_max/2\n",
    "\n",
    "V_max = 1.4 #d^-1\n",
    "λ_P = .05   #d^-1\n",
    "μ_P = .4\n",
    "\n",
    "g = 1.4     #d^-1 \n",
    "K_P = 2.8   #mmol m^-3, the concentration of phytoplankton that supports a grazing rate of g/2\n",
    "γ_Z = .4\n",
    "λ_Z = .12   #d^-1\n",
    "μ_Z = .4"
   ]
  },
  {
   "cell_type": "code",
   "execution_count": 22,
   "id": "d22fa075",
   "metadata": {},
   "outputs": [
    {
     "data": {
      "image/png": "[encoded data removed]",
      "text/plain": [
       "<Figure size 1080x504 with 1 Axes>"
      ]
     },
     "metadata": {
      "needs_background": "light"
     },
     "output_type": "display_data"
    }
   ],
   "source": [
    "N_T = np.arange(0,  10, .1)\n",
    "\n",
    "#Computing variable values\n",
    "N = [regime(N_T[i], K_N, V_max, λ_P, μ_P, g, K_P, γ_Z, λ_Z, μ_Z)[0] for i in range(len(N_T))]\n",
    "P = [regime(N_T[i], K_N, V_max, λ_P, μ_P, g, K_P, γ_Z, λ_Z, μ_Z)[1] for i in range(len(N_T))]\n",
    "Z = [regime(N_T[i], K_N, V_max, λ_P, μ_P, g, K_P, γ_Z, λ_Z, μ_Z)[2] for i in range(len(N_T))]\n",
    "\n",
    "P_Z_sum = [P[i] + Z[i] for i in range(len(N_T))]\n",
    "N_P_Z_sum = [N[i] + P[i] + Z[i] for i in range(len(N_T))]\n",
    "\n",
    "#Plotting\n",
    "fig = plt.figure(figsize=(15,7))\n",
    "ax = fig.add_subplot(121)\n",
    "\n",
    "#Zooming in to N and N-P regimes\n",
    "ax.plot(N_T, P, linewidth = 2, label=\"P\")\n",
    "ax.plot(N_T, P_Z_sum, linewidth = 2, label=\"P + Z\")\n",
    "ax.plot(N_T, N_P_Z_sum, linewidth = 2, label=\"P + Z + N\")\n",
    "\n",
    "ax.set_xlabel(\"Total Nutrients N_T mmol m^-3\", fontsize=16)\n",
    "ax.set_ylabel(\"P, P + Z, P + N + Z\", fontsize=16)\n",
    "ax.set_title(\"N and N-P Regimes\", fontsize=20)\n",
    "\n",
    "\n",
    "ax.legend()\n",
    "ax.grid()\n",
    "plt.show()"
   ]
  },
  {
   "cell_type": "code",
   "execution_count": null,
   "id": "4afbfffa",
   "metadata": {},
   "outputs": [],
   "source": []
  },
  {
   "cell_type": "code",
   "execution_count": null,
   "id": "ae384fce",
   "metadata": {},
   "outputs": [],
   "source": []
  }
 ],
 "metadata": {
  "kernelspec": {
   "display_name": "Python 3 (ipykernel)",
   "language": "python",
   "name": "python3"
  },
  "language_info": {
   "codemirror_mode": {
    "name": "ipython",
    "version": 3
   },
   "file_extension": ".py",
   "mimetype": "text/x-python",
   "name": "python",
   "nbconvert_exporter": "python",
   "pygments_lexer": "ipython3",
   "version": "3.9.5"
  }
 },
 "nbformat": 4,
 "nbformat_minor": 5
}
